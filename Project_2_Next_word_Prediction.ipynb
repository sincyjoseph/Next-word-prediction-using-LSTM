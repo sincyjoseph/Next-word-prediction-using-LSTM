{
  "nbformat": 4,
  "nbformat_minor": 0,
  "metadata": {
    "kernelspec": {
      "display_name": "Python 3",
      "language": "python",
      "name": "python3"
    },
    "language_info": {
      "codemirror_mode": {
        "name": "ipython",
        "version": 3
      },
      "file_extension": ".py",
      "mimetype": "text/x-python",
      "name": "python",
      "nbconvert_exporter": "python",
      "pygments_lexer": "ipython3",
      "version": "3.7.7"
    },
    "colab": {
      "name": "Project 2: Next word Prediction.ipynb",
      "provenance": [],
      "collapsed_sections": []
    },
    "accelerator": "GPU"
  },
  "cells": [
    {
      "cell_type": "markdown",
      "metadata": {
        "id": "kqDjxl8dYqXX"
      },
      "source": [
        "### Importing required libraries:"
      ]
    },
    {
      "cell_type": "code",
      "metadata": {
        "id": "fcgITjrtYqXZ"
      },
      "source": [
        "import tensorflow as tf\n",
        "from tensorflow.keras.preprocessing.text import Tokenizer\n",
        "from tensorflow.keras.layers import Embedding, LSTM, Dense\n",
        "from tensorflow.keras.models import Sequential\n",
        "from tensorflow.keras.utils import to_categorical\n",
        "from tensorflow.keras.optimizers import Adam\n",
        "import pickle\n",
        "import numpy as np\n",
        "import os"
      ],
      "execution_count": null,
      "outputs": []
    },
    {
      "cell_type": "code",
      "metadata": {
        "id": "bFF7kl9VZIn0",
        "colab": {
          "resources": {
            "http://localhost:8080/nbextensions/google.colab/files.js": {
              "data": "Ly8gQ29weXJpZ2h0IDIwMTcgR29vZ2xlIExMQwovLwovLyBMaWNlbnNlZCB1bmRlciB0aGUgQXBhY2hlIExpY2Vuc2UsIFZlcnNpb24gMi4wICh0aGUgIkxpY2Vuc2UiKTsKLy8geW91IG1heSBub3QgdXNlIHRoaXMgZmlsZSBleGNlcHQgaW4gY29tcGxpYW5jZSB3aXRoIHRoZSBMaWNlbnNlLgovLyBZb3UgbWF5IG9idGFpbiBhIGNvcHkgb2YgdGhlIExpY2Vuc2UgYXQKLy8KLy8gICAgICBodHRwOi8vd3d3LmFwYWNoZS5vcmcvbGljZW5zZXMvTElDRU5TRS0yLjAKLy8KLy8gVW5sZXNzIHJlcXVpcmVkIGJ5IGFwcGxpY2FibGUgbGF3IG9yIGFncmVlZCB0byBpbiB3cml0aW5nLCBzb2Z0d2FyZQovLyBkaXN0cmlidXRlZCB1bmRlciB0aGUgTGljZW5zZSBpcyBkaXN0cmlidXRlZCBvbiBhbiAiQVMgSVMiIEJBU0lTLAovLyBXSVRIT1VUIFdBUlJBTlRJRVMgT1IgQ09ORElUSU9OUyBPRiBBTlkgS0lORCwgZWl0aGVyIGV4cHJlc3Mgb3IgaW1wbGllZC4KLy8gU2VlIHRoZSBMaWNlbnNlIGZvciB0aGUgc3BlY2lmaWMgbGFuZ3VhZ2UgZ292ZXJuaW5nIHBlcm1pc3Npb25zIGFuZAovLyBsaW1pdGF0aW9ucyB1bmRlciB0aGUgTGljZW5zZS4KCi8qKgogKiBAZmlsZW92ZXJ2aWV3IEhlbHBlcnMgZm9yIGdvb2dsZS5jb2xhYiBQeXRob24gbW9kdWxlLgogKi8KKGZ1bmN0aW9uKHNjb3BlKSB7CmZ1bmN0aW9uIHNwYW4odGV4dCwgc3R5bGVBdHRyaWJ1dGVzID0ge30pIHsKICBjb25zdCBlbGVtZW50ID0gZG9jdW1lbnQuY3JlYXRlRWxlbWVudCgnc3BhbicpOwogIGVsZW1lbnQudGV4dENvbnRlbnQgPSB0ZXh0OwogIGZvciAoY29uc3Qga2V5IG9mIE9iamVjdC5rZXlzKHN0eWxlQXR0cmlidXRlcykpIHsKICAgIGVsZW1lbnQuc3R5bGVba2V5XSA9IHN0eWxlQXR0cmlidXRlc1trZXldOwogIH0KICByZXR1cm4gZWxlbWVudDsKfQoKLy8gTWF4IG51bWJlciBvZiBieXRlcyB3aGljaCB3aWxsIGJlIHVwbG9hZGVkIGF0IGEgdGltZS4KY29uc3QgTUFYX1BBWUxPQURfU0laRSA9IDEwMCAqIDEwMjQ7CgpmdW5jdGlvbiBfdXBsb2FkRmlsZXMoaW5wdXRJZCwgb3V0cHV0SWQpIHsKICBjb25zdCBzdGVwcyA9IHVwbG9hZEZpbGVzU3RlcChpbnB1dElkLCBvdXRwdXRJZCk7CiAgY29uc3Qgb3V0cHV0RWxlbWVudCA9IGRvY3VtZW50LmdldEVsZW1lbnRCeUlkKG91dHB1dElkKTsKICAvLyBDYWNoZSBzdGVwcyBvbiB0aGUgb3V0cHV0RWxlbWVudCB0byBtYWtlIGl0IGF2YWlsYWJsZSBmb3IgdGhlIG5leHQgY2FsbAogIC8vIHRvIHVwbG9hZEZpbGVzQ29udGludWUgZnJvbSBQeXRob24uCiAgb3V0cHV0RWxlbWVudC5zdGVwcyA9IHN0ZXBzOwoKICByZXR1cm4gX3VwbG9hZEZpbGVzQ29udGludWUob3V0cHV0SWQpOwp9CgovLyBUaGlzIGlzIHJvdWdobHkgYW4gYXN5bmMgZ2VuZXJhdG9yIChub3Qgc3VwcG9ydGVkIGluIHRoZSBicm93c2VyIHlldCksCi8vIHdoZXJlIHRoZXJlIGFyZSBtdWx0aXBsZSBhc3luY2hyb25vdXMgc3RlcHMgYW5kIHRoZSBQeXRob24gc2lkZSBpcyBnb2luZwovLyB0byBwb2xsIGZvciBjb21wbGV0aW9uIG9mIGVhY2ggc3RlcC4KLy8gVGhpcyB1c2VzIGEgUHJvbWlzZSB0byBibG9jayB0aGUgcHl0aG9uIHNpZGUgb24gY29tcGxldGlvbiBvZiBlYWNoIHN0ZXAsCi8vIHRoZW4gcGFzc2VzIHRoZSByZXN1bHQgb2YgdGhlIHByZXZpb3VzIHN0ZXAgYXMgdGhlIGlucHV0IHRvIHRoZSBuZXh0IHN0ZXAuCmZ1bmN0aW9uIF91cGxvYWRGaWxlc0NvbnRpbnVlKG91dHB1dElkKSB7CiAgY29uc3Qgb3V0cHV0RWxlbWVudCA9IGRvY3VtZW50LmdldEVsZW1lbnRCeUlkKG91dHB1dElkKTsKICBjb25zdCBzdGVwcyA9IG91dHB1dEVsZW1lbnQuc3RlcHM7CgogIGNvbnN0IG5leHQgPSBzdGVwcy5uZXh0KG91dHB1dEVsZW1lbnQubGFzdFByb21pc2VWYWx1ZSk7CiAgcmV0dXJuIFByb21pc2UucmVzb2x2ZShuZXh0LnZhbHVlLnByb21pc2UpLnRoZW4oKHZhbHVlKSA9PiB7CiAgICAvLyBDYWNoZSB0aGUgbGFzdCBwcm9taXNlIHZhbHVlIHRvIG1ha2UgaXQgYXZhaWxhYmxlIHRvIHRoZSBuZXh0CiAgICAvLyBzdGVwIG9mIHRoZSBnZW5lcmF0b3IuCiAgICBvdXRwdXRFbGVtZW50Lmxhc3RQcm9taXNlVmFsdWUgPSB2YWx1ZTsKICAgIHJldHVybiBuZXh0LnZhbHVlLnJlc3BvbnNlOwogIH0pOwp9CgovKioKICogR2VuZXJhdG9yIGZ1bmN0aW9uIHdoaWNoIGlzIGNhbGxlZCBiZXR3ZWVuIGVhY2ggYXN5bmMgc3RlcCBvZiB0aGUgdXBsb2FkCiAqIHByb2Nlc3MuCiAqIEBwYXJhbSB7c3RyaW5nfSBpbnB1dElkIEVsZW1lbnQgSUQgb2YgdGhlIGlucHV0IGZpbGUgcGlja2VyIGVsZW1lbnQuCiAqIEBwYXJhbSB7c3RyaW5nfSBvdXRwdXRJZCBFbGVtZW50IElEIG9mIHRoZSBvdXRwdXQgZGlzcGxheS4KICogQHJldHVybiB7IUl0ZXJhYmxlPCFPYmplY3Q+fSBJdGVyYWJsZSBvZiBuZXh0IHN0ZXBzLgogKi8KZnVuY3Rpb24qIHVwbG9hZEZpbGVzU3RlcChpbnB1dElkLCBvdXRwdXRJZCkgewogIGNvbnN0IGlucHV0RWxlbWVudCA9IGRvY3VtZW50LmdldEVsZW1lbnRCeUlkKGlucHV0SWQpOwogIGlucHV0RWxlbWVudC5kaXNhYmxlZCA9IGZhbHNlOwoKICBjb25zdCBvdXRwdXRFbGVtZW50ID0gZG9jdW1lbnQuZ2V0RWxlbWVudEJ5SWQob3V0cHV0SWQpOwogIG91dHB1dEVsZW1lbnQuaW5uZXJIVE1MID0gJyc7CgogIGNvbnN0IHBpY2tlZFByb21pc2UgPSBuZXcgUHJvbWlzZSgocmVzb2x2ZSkgPT4gewogICAgaW5wdXRFbGVtZW50LmFkZEV2ZW50TGlzdGVuZXIoJ2NoYW5nZScsIChlKSA9PiB7CiAgICAgIHJlc29sdmUoZS50YXJnZXQuZmlsZXMpOwogICAgfSk7CiAgfSk7CgogIGNvbnN0IGNhbmNlbCA9IGRvY3VtZW50LmNyZWF0ZUVsZW1lbnQoJ2J1dHRvbicpOwogIGlucHV0RWxlbWVudC5wYXJlbnRFbGVtZW50LmFwcGVuZENoaWxkKGNhbmNlbCk7CiAgY2FuY2VsLnRleHRDb250ZW50ID0gJ0NhbmNlbCB1cGxvYWQnOwogIGNvbnN0IGNhbmNlbFByb21pc2UgPSBuZXcgUHJvbWlzZSgocmVzb2x2ZSkgPT4gewogICAgY2FuY2VsLm9uY2xpY2sgPSAoKSA9PiB7CiAgICAgIHJlc29sdmUobnVsbCk7CiAgICB9OwogIH0pOwoKICAvLyBXYWl0IGZvciB0aGUgdXNlciB0byBwaWNrIHRoZSBmaWxlcy4KICBjb25zdCBmaWxlcyA9IHlpZWxkIHsKICAgIHByb21pc2U6IFByb21pc2UucmFjZShbcGlja2VkUHJvbWlzZSwgY2FuY2VsUHJvbWlzZV0pLAogICAgcmVzcG9uc2U6IHsKICAgICAgYWN0aW9uOiAnc3RhcnRpbmcnLAogICAgfQogIH07CgogIGNhbmNlbC5yZW1vdmUoKTsKCiAgLy8gRGlzYWJsZSB0aGUgaW5wdXQgZWxlbWVudCBzaW5jZSBmdXJ0aGVyIHBpY2tzIGFyZSBub3QgYWxsb3dlZC4KICBpbnB1dEVsZW1lbnQuZGlzYWJsZWQgPSB0cnVlOwoKICBpZiAoIWZpbGVzKSB7CiAgICByZXR1cm4gewogICAgICByZXNwb25zZTogewogICAgICAgIGFjdGlvbjogJ2NvbXBsZXRlJywKICAgICAgfQogICAgfTsKICB9CgogIGZvciAoY29uc3QgZmlsZSBvZiBmaWxlcykgewogICAgY29uc3QgbGkgPSBkb2N1bWVudC5jcmVhdGVFbGVtZW50KCdsaScpOwogICAgbGkuYXBwZW5kKHNwYW4oZmlsZS5uYW1lLCB7Zm9udFdlaWdodDogJ2JvbGQnfSkpOwogICAgbGkuYXBwZW5kKHNwYW4oCiAgICAgICAgYCgke2ZpbGUudHlwZSB8fCAnbi9hJ30pIC0gJHtmaWxlLnNpemV9IGJ5dGVzLCBgICsKICAgICAgICBgbGFzdCBtb2RpZmllZDogJHsKICAgICAgICAgICAgZmlsZS5sYXN0TW9kaWZpZWREYXRlID8gZmlsZS5sYXN0TW9kaWZpZWREYXRlLnRvTG9jYWxlRGF0ZVN0cmluZygpIDoKICAgICAgICAgICAgICAgICAgICAgICAgICAgICAgICAgICAgJ24vYSd9IC0gYCkpOwogICAgY29uc3QgcGVyY2VudCA9IHNwYW4oJzAlIGRvbmUnKTsKICAgIGxpLmFwcGVuZENoaWxkKHBlcmNlbnQpOwoKICAgIG91dHB1dEVsZW1lbnQuYXBwZW5kQ2hpbGQobGkpOwoKICAgIGNvbnN0IGZpbGVEYXRhUHJvbWlzZSA9IG5ldyBQcm9taXNlKChyZXNvbHZlKSA9PiB7CiAgICAgIGNvbnN0IHJlYWRlciA9IG5ldyBGaWxlUmVhZGVyKCk7CiAgICAgIHJlYWRlci5vbmxvYWQgPSAoZSkgPT4gewogICAgICAgIHJlc29sdmUoZS50YXJnZXQucmVzdWx0KTsKICAgICAgfTsKICAgICAgcmVhZGVyLnJlYWRBc0FycmF5QnVmZmVyKGZpbGUpOwogICAgfSk7CiAgICAvLyBXYWl0IGZvciB0aGUgZGF0YSB0byBiZSByZWFkeS4KICAgIGxldCBmaWxlRGF0YSA9IHlpZWxkIHsKICAgICAgcHJvbWlzZTogZmlsZURhdGFQcm9taXNlLAogICAgICByZXNwb25zZTogewogICAgICAgIGFjdGlvbjogJ2NvbnRpbnVlJywKICAgICAgfQogICAgfTsKCiAgICAvLyBVc2UgYSBjaHVua2VkIHNlbmRpbmcgdG8gYXZvaWQgbWVzc2FnZSBzaXplIGxpbWl0cy4gU2VlIGIvNjIxMTU2NjAuCiAgICBsZXQgcG9zaXRpb24gPSAwOwogICAgZG8gewogICAgICBjb25zdCBsZW5ndGggPSBNYXRoLm1pbihmaWxlRGF0YS5ieXRlTGVuZ3RoIC0gcG9zaXRpb24sIE1BWF9QQVlMT0FEX1NJWkUpOwogICAgICBjb25zdCBjaHVuayA9IG5ldyBVaW50OEFycmF5KGZpbGVEYXRhLCBwb3NpdGlvbiwgbGVuZ3RoKTsKICAgICAgcG9zaXRpb24gKz0gbGVuZ3RoOwoKICAgICAgY29uc3QgYmFzZTY0ID0gYnRvYShTdHJpbmcuZnJvbUNoYXJDb2RlLmFwcGx5KG51bGwsIGNodW5rKSk7CiAgICAgIHlpZWxkIHsKICAgICAgICByZXNwb25zZTogewogICAgICAgICAgYWN0aW9uOiAnYXBwZW5kJywKICAgICAgICAgIGZpbGU6IGZpbGUubmFtZSwKICAgICAgICAgIGRhdGE6IGJhc2U2NCwKICAgICAgICB9LAogICAgICB9OwoKICAgICAgbGV0IHBlcmNlbnREb25lID0gZmlsZURhdGEuYnl0ZUxlbmd0aCA9PT0gMCA/CiAgICAgICAgICAxMDAgOgogICAgICAgICAgTWF0aC5yb3VuZCgocG9zaXRpb24gLyBmaWxlRGF0YS5ieXRlTGVuZ3RoKSAqIDEwMCk7CiAgICAgIHBlcmNlbnQudGV4dENvbnRlbnQgPSBgJHtwZXJjZW50RG9uZX0lIGRvbmVgOwoKICAgIH0gd2hpbGUgKHBvc2l0aW9uIDwgZmlsZURhdGEuYnl0ZUxlbmd0aCk7CiAgfQoKICAvLyBBbGwgZG9uZS4KICB5aWVsZCB7CiAgICByZXNwb25zZTogewogICAgICBhY3Rpb246ICdjb21wbGV0ZScsCiAgICB9CiAgfTsKfQoKc2NvcGUuZ29vZ2xlID0gc2NvcGUuZ29vZ2xlIHx8IHt9OwpzY29wZS5nb29nbGUuY29sYWIgPSBzY29wZS5nb29nbGUuY29sYWIgfHwge307CnNjb3BlLmdvb2dsZS5jb2xhYi5fZmlsZXMgPSB7CiAgX3VwbG9hZEZpbGVzLAogIF91cGxvYWRGaWxlc0NvbnRpbnVlLAp9Owp9KShzZWxmKTsK",
              "ok": true,
              "headers": [
                [
                  "content-type",
                  "application/javascript"
                ]
              ],
              "status": 200,
              "status_text": ""
            }
          },
          "base_uri": "https://localhost:8080/",
          "height": 73
        },
        "outputId": "1abced12-8e0d-4acf-f23e-8b1eb83fcf60"
      },
      "source": [
        "from google.colab import files\n",
        "uploaded = files.upload()"
      ],
      "execution_count": null,
      "outputs": [
        {
          "output_type": "display_data",
          "data": {
            "text/html": [
              "\n",
              "     <input type=\"file\" id=\"files-ed22f6d0-a0e5-4fec-9701-145b3b8e3fec\" name=\"files[]\" multiple disabled\n",
              "        style=\"border:none\" />\n",
              "     <output id=\"result-ed22f6d0-a0e5-4fec-9701-145b3b8e3fec\">\n",
              "      Upload widget is only available when the cell has been executed in the\n",
              "      current browser session. Please rerun this cell to enable.\n",
              "      </output>\n",
              "      <script src=\"/nbextensions/google.colab/files.js\"></script> "
            ],
            "text/plain": [
              "<IPython.core.display.HTML object>"
            ]
          },
          "metadata": {
            "tags": []
          }
        },
        {
          "output_type": "stream",
          "text": [
            "Saving Pride and Prejudice.txt to Pride and Prejudice.txt\n"
          ],
          "name": "stdout"
        }
      ]
    },
    {
      "cell_type": "markdown",
      "metadata": {
        "id": "WfGuBDW_WCzy"
      },
      "source": [
        "### Load and Pre-process the data"
      ]
    },
    {
      "cell_type": "code",
      "metadata": {
        "id": "zBjRrW7SYqXe",
        "colab": {
          "base_uri": "https://localhost:8080/",
          "height": 90
        },
        "outputId": "ae1178ff-24cf-47d2-b5da-1dc151003fbd"
      },
      "source": [
        "file = open(\"Pride and Prejudice.txt\", \"r\", encoding = \"utf8\")\n",
        "\n",
        "# store file in list\n",
        "lines = []\n",
        "for i in file:\n",
        "    lines.append(i)\n",
        "\n",
        "# Convert list to string\n",
        "data = \"\"\n",
        "for i in lines:\n",
        "  data = ' '. join(lines) \n",
        "\n",
        "#replace unnecessary stuff with space\n",
        "data = data.replace('\\n', '').replace('\\r', '').replace('\\ufeff', '').replace('“','').replace('”','')  #new line, carriage return, unicode character --> replace by space\n",
        "\n",
        "#remove unnecessary spaces \n",
        "data = data.split()\n",
        "data = ' '.join(data)\n",
        "data[:500]"
      ],
      "execution_count": null,
      "outputs": [
        {
          "output_type": "execute_result",
          "data": {
            "application/vnd.google.colaboratory.intrinsic+json": {
              "type": "string"
            },
            "text/plain": [
              "'The Project Gutenberg eBook of Pride and Prejudice, by Jane Austen This eBook is for the use of anyone anywhere in the United States and most other parts of the world at no cost and with almost no restrictions whatsoever. You may copy it, give it away or re-use it under the terms of the Project Gutenberg License included with this eBook or online at www.gutenberg.org. If you are not located in the United States, you will have to check the laws of the country where you are located before using th'"
            ]
          },
          "metadata": {
            "tags": []
          },
          "execution_count": 3
        }
      ]
    },
    {
      "cell_type": "code",
      "metadata": {
        "colab": {
          "base_uri": "https://localhost:8080/"
        },
        "id": "lC2yphTox13m",
        "outputId": "0298af1e-b43f-49f3-c412-f2139664879e"
      },
      "source": [
        "len(data)"
      ],
      "execution_count": null,
      "outputs": [
        {
          "output_type": "execute_result",
          "data": {
            "text/plain": [
              "698483"
            ]
          },
          "metadata": {
            "tags": []
          },
          "execution_count": 4
        }
      ]
    },
    {
      "cell_type": "markdown",
      "metadata": {
        "id": "sOoCKgBwYqXr"
      },
      "source": [
        "### Apply Tokenization:"
      ]
    },
    {
      "cell_type": "code",
      "metadata": {
        "id": "GwoKtQLvYqXt",
        "colab": {
          "base_uri": "https://localhost:8080/"
        },
        "outputId": "4b855329-b6fb-40ed-9f61-fa9121812880"
      },
      "source": [
        "tokenizer = Tokenizer()\n",
        "tokenizer.fit_on_texts([data])\n",
        "\n",
        "# saving the tokenizer for predict function\n",
        "pickle.dump(tokenizer, open('token.pkl', 'wb'))\n",
        "\n",
        "sequence_data = tokenizer.texts_to_sequences([data])[0]\n",
        "sequence_data[:15]"
      ],
      "execution_count": null,
      "outputs": [
        {
          "output_type": "execute_result",
          "data": {
            "text/plain": [
              "[1, 176, 157, 916, 3, 321, 4, 1174, 30, 72, 2535, 41, 916, 23, 21]"
            ]
          },
          "metadata": {
            "tags": []
          },
          "execution_count": 5
        }
      ]
    },
    {
      "cell_type": "code",
      "metadata": {
        "colab": {
          "base_uri": "https://localhost:8080/"
        },
        "id": "WHVB-WVox6JI",
        "outputId": "d3da7ec6-edab-44f3-d1f4-24b00838ab3c"
      },
      "source": [
        "len(sequence_data)"
      ],
      "execution_count": null,
      "outputs": [
        {
          "output_type": "execute_result",
          "data": {
            "text/plain": [
              "125317"
            ]
          },
          "metadata": {
            "tags": []
          },
          "execution_count": 6
        }
      ]
    },
    {
      "cell_type": "code",
      "metadata": {
        "id": "cyL9lL7MYqXx",
        "colab": {
          "base_uri": "https://localhost:8080/"
        },
        "outputId": "288e3f76-6a22-4f79-846f-6cc5c583f6df"
      },
      "source": [
        "vocab_size = len(tokenizer.word_index) + 1\n",
        "print(vocab_size)"
      ],
      "execution_count": null,
      "outputs": [
        {
          "output_type": "stream",
          "text": [
            "7036\n"
          ],
          "name": "stdout"
        }
      ]
    },
    {
      "cell_type": "code",
      "metadata": {
        "id": "UkVPpJiuYqXz",
        "colab": {
          "base_uri": "https://localhost:8080/"
        },
        "outputId": "46a44a10-ee55-4d89-e236-173450922a53"
      },
      "source": [
        "sequences = []\n",
        "\n",
        "for i in range(3, len(sequence_data)):\n",
        "    words = sequence_data[i-3:i+1]\n",
        "    sequences.append(words)\n",
        "    \n",
        "print(\"The Length of sequences are: \", len(sequences))\n",
        "sequences = np.array(sequences)\n",
        "sequences[:10]"
      ],
      "execution_count": null,
      "outputs": [
        {
          "output_type": "stream",
          "text": [
            "The Length of sequences are:  125314\n"
          ],
          "name": "stdout"
        },
        {
          "output_type": "execute_result",
          "data": {
            "text/plain": [
              "array([[   1,  176,  157,  916],\n",
              "       [ 176,  157,  916,    3],\n",
              "       [ 157,  916,    3,  321],\n",
              "       [ 916,    3,  321,    4],\n",
              "       [   3,  321,    4, 1174],\n",
              "       [ 321,    4, 1174,   30],\n",
              "       [   4, 1174,   30,   72],\n",
              "       [1174,   30,   72, 2535],\n",
              "       [  30,   72, 2535,   41],\n",
              "       [  72, 2535,   41,  916]])"
            ]
          },
          "metadata": {
            "tags": []
          },
          "execution_count": 8
        }
      ]
    },
    {
      "cell_type": "code",
      "metadata": {
        "id": "yD5ovBUDYqX0"
      },
      "source": [
        "X = []\n",
        "y = []\n",
        "\n",
        "for i in sequences:\n",
        "    X.append(i[0:3])\n",
        "    y.append(i[3])\n",
        "    \n",
        "X = np.array(X)\n",
        "y = np.array(y)"
      ],
      "execution_count": null,
      "outputs": []
    },
    {
      "cell_type": "code",
      "metadata": {
        "id": "68ixp85yYqX2",
        "colab": {
          "base_uri": "https://localhost:8080/"
        },
        "outputId": "964fb357-af26-49e0-bd9a-80b0210de53a"
      },
      "source": [
        "print(\"Data: \", X[:10])\n",
        "print(\"Response: \", y[:10])"
      ],
      "execution_count": null,
      "outputs": [
        {
          "output_type": "stream",
          "text": [
            "Data:  [[   1  176  157]\n",
            " [ 176  157  916]\n",
            " [ 157  916    3]\n",
            " [ 916    3  321]\n",
            " [   3  321    4]\n",
            " [ 321    4 1174]\n",
            " [   4 1174   30]\n",
            " [1174   30   72]\n",
            " [  30   72 2535]\n",
            " [  72 2535   41]]\n",
            "Response:  [ 916    3  321    4 1174   30   72 2535   41  916]\n"
          ],
          "name": "stdout"
        }
      ]
    },
    {
      "cell_type": "code",
      "metadata": {
        "id": "2mnIPBEeYqX3",
        "colab": {
          "base_uri": "https://localhost:8080/"
        },
        "outputId": "6e3f5bfe-4189-40b7-f2de-a8848d63b981"
      },
      "source": [
        "y = to_categorical(y, num_classes=vocab_size)\n",
        "y[:5]"
      ],
      "execution_count": null,
      "outputs": [
        {
          "output_type": "execute_result",
          "data": {
            "text/plain": [
              "array([[0., 0., 0., ..., 0., 0., 0.],\n",
              "       [0., 0., 0., ..., 0., 0., 0.],\n",
              "       [0., 0., 0., ..., 0., 0., 0.],\n",
              "       [0., 0., 0., ..., 0., 0., 0.],\n",
              "       [0., 0., 0., ..., 0., 0., 0.]], dtype=float32)"
            ]
          },
          "metadata": {
            "tags": []
          },
          "execution_count": 11
        }
      ]
    },
    {
      "cell_type": "markdown",
      "metadata": {
        "id": "STcKU4xSYqX4"
      },
      "source": [
        "### Creating the Model:"
      ]
    },
    {
      "cell_type": "code",
      "metadata": {
        "id": "RZJUCdgYYqX5"
      },
      "source": [
        "model = Sequential()\n",
        "model.add(Embedding(vocab_size, 10, input_length=3))\n",
        "model.add(LSTM(1000, return_sequences=True))\n",
        "model.add(LSTM(1000))\n",
        "model.add(Dense(1000, activation=\"relu\"))\n",
        "model.add(Dense(vocab_size, activation=\"softmax\"))"
      ],
      "execution_count": null,
      "outputs": []
    },
    {
      "cell_type": "code",
      "metadata": {
        "id": "t0RCLacKYqX7",
        "colab": {
          "base_uri": "https://localhost:8080/"
        },
        "outputId": "2b90d1af-4f65-480f-df18-f04b4b9057ec"
      },
      "source": [
        "model.summary()"
      ],
      "execution_count": null,
      "outputs": [
        {
          "output_type": "stream",
          "text": [
            "Model: \"sequential\"\n",
            "_________________________________________________________________\n",
            "Layer (type)                 Output Shape              Param #   \n",
            "=================================================================\n",
            "embedding (Embedding)        (None, 3, 10)             70360     \n",
            "_________________________________________________________________\n",
            "lstm (LSTM)                  (None, 3, 1000)           4044000   \n",
            "_________________________________________________________________\n",
            "lstm_1 (LSTM)                (None, 1000)              8004000   \n",
            "_________________________________________________________________\n",
            "dense (Dense)                (None, 1000)              1001000   \n",
            "_________________________________________________________________\n",
            "dense_1 (Dense)              (None, 7036)              7043036   \n",
            "=================================================================\n",
            "Total params: 20,162,396\n",
            "Trainable params: 20,162,396\n",
            "Non-trainable params: 0\n",
            "_________________________________________________________________\n"
          ],
          "name": "stdout"
        }
      ]
    },
    {
      "cell_type": "markdown",
      "metadata": {
        "id": "1N__Na3YYqX8"
      },
      "source": [
        "### Plot The Model:"
      ]
    },
    {
      "cell_type": "code",
      "metadata": {
        "id": "dWbWvr3XYqX9",
        "colab": {
          "base_uri": "https://localhost:8080/",
          "height": 564
        },
        "outputId": "ee673379-90f7-41e2-cf19-9d7acb3fb515"
      },
      "source": [
        "from tensorflow import keras\n",
        "from keras.utils.vis_utils import plot_model\n",
        "\n",
        "keras.utils.plot_model(model, to_file='plot.png', show_layer_names=True)"
      ],
      "execution_count": null,
      "outputs": [
        {
          "output_type": "execute_result",
          "data": {
            "image/png": "[encoded data removed]",
            "text/plain": [
              "<IPython.core.display.Image object>"
            ]
          },
          "metadata": {
            "tags": []
          },
          "execution_count": 14
        }
      ]
    },
    {
      "cell_type": "markdown",
      "metadata": {
        "id": "Ug7ECpcBYqX_"
      },
      "source": [
        "### Build our model"
      ]
    },
    {
      "cell_type": "code",
      "metadata": {
        "id": "T_SywnvwYqYA",
        "colab": {
          "base_uri": "https://localhost:8080/"
        },
        "outputId": "ef9cb231-6793-4f92-b897-c729c2186cc0"
      },
      "source": [
        "from tensorflow.keras.callbacks import ModelCheckpoint\n",
        "\n",
        "checkpoint = ModelCheckpoint(\"next_words.h5\", monitor='loss', verbose=1, save_best_only=True)\n",
        "model.compile(loss=\"categorical_crossentropy\", optimizer=Adam(learning_rate=0.001))\n",
        "model.fit(X, y, epochs=70, batch_size=64, callbacks=[checkpoint])"
      ],
      "execution_count": null,
      "outputs": [
        {
          "output_type": "stream",
          "text": [
            "Epoch 1/70\n",
            "1959/1959 [==============================] - 38s 15ms/step - loss: 6.2359\n",
            "\n",
            "Epoch 00001: loss improved from inf to 6.23590, saving model to next_words.h5\n",
            "Epoch 2/70\n",
            "1959/1959 [==============================] - 30s 15ms/step - loss: 5.5817\n",
            "\n",
            "Epoch 00002: loss improved from 6.23590 to 5.58167, saving model to next_words.h5\n",
            "Epoch 3/70\n",
            "1959/1959 [==============================] - 30s 15ms/step - loss: 5.2482\n",
            "\n",
            "Epoch 00003: loss improved from 5.58167 to 5.24822, saving model to next_words.h5\n",
            "Epoch 4/70\n",
            "1959/1959 [==============================] - 30s 15ms/step - loss: 5.0158\n",
            "\n",
            "Epoch 00004: loss improved from 5.24822 to 5.01578, saving model to next_words.h5\n",
            "Epoch 5/70\n",
            "1959/1959 [==============================] - 30s 15ms/step - loss: 4.8120\n",
            "\n",
            "Epoch 00005: loss improved from 5.01578 to 4.81196, saving model to next_words.h5\n",
            "Epoch 6/70\n",
            "1959/1959 [==============================] - 30s 15ms/step - loss: 4.6140\n",
            "\n",
            "Epoch 00006: loss improved from 4.81196 to 4.61403, saving model to next_words.h5\n",
            "Epoch 7/70\n",
            "1959/1959 [==============================] - 30s 15ms/step - loss: 4.4162\n",
            "\n",
            "Epoch 00007: loss improved from 4.61403 to 4.41624, saving model to next_words.h5\n",
            "Epoch 8/70\n",
            "1959/1959 [==============================] - 30s 15ms/step - loss: 4.2143\n",
            "\n",
            "Epoch 00008: loss improved from 4.41624 to 4.21427, saving model to next_words.h5\n",
            "Epoch 9/70\n",
            "1959/1959 [==============================] - 30s 15ms/step - loss: 4.0034\n",
            "\n",
            "Epoch 00009: loss improved from 4.21427 to 4.00343, saving model to next_words.h5\n",
            "Epoch 10/70\n",
            "1959/1959 [==============================] - 30s 15ms/step - loss: 3.7884\n",
            "\n",
            "Epoch 00010: loss improved from 4.00343 to 3.78845, saving model to next_words.h5\n",
            "Epoch 11/70\n",
            "1959/1959 [==============================] - 30s 15ms/step - loss: 3.5678\n",
            "\n",
            "Epoch 00011: loss improved from 3.78845 to 3.56778, saving model to next_words.h5\n",
            "Epoch 12/70\n",
            "1959/1959 [==============================] - 30s 15ms/step - loss: 3.3477\n",
            "\n",
            "Epoch 00012: loss improved from 3.56778 to 3.34770, saving model to next_words.h5\n",
            "Epoch 13/70\n",
            "1959/1959 [==============================] - 30s 15ms/step - loss: 3.1252\n",
            "\n",
            "Epoch 00013: loss improved from 3.34770 to 3.12516, saving model to next_words.h5\n",
            "Epoch 14/70\n",
            "1959/1959 [==============================] - 30s 15ms/step - loss: 2.8965\n",
            "\n",
            "Epoch 00014: loss improved from 3.12516 to 2.89645, saving model to next_words.h5\n",
            "Epoch 15/70\n",
            "1959/1959 [==============================] - 30s 15ms/step - loss: 2.6675\n",
            "\n",
            "Epoch 00015: loss improved from 2.89645 to 2.66749, saving model to next_words.h5\n",
            "Epoch 16/70\n",
            "1959/1959 [==============================] - 30s 15ms/step - loss: 2.4308\n",
            "\n",
            "Epoch 00016: loss improved from 2.66749 to 2.43084, saving model to next_words.h5\n",
            "Epoch 17/70\n",
            "1959/1959 [==============================] - 30s 15ms/step - loss: 2.2005\n",
            "\n",
            "Epoch 00017: loss improved from 2.43084 to 2.20052, saving model to next_words.h5\n",
            "Epoch 18/70\n",
            "1959/1959 [==============================] - 30s 15ms/step - loss: 1.9758\n",
            "\n",
            "Epoch 00018: loss improved from 2.20052 to 1.97576, saving model to next_words.h5\n",
            "Epoch 19/70\n",
            "1959/1959 [==============================] - 30s 16ms/step - loss: 1.7678\n",
            "\n",
            "Epoch 00019: loss improved from 1.97576 to 1.76776, saving model to next_words.h5\n",
            "Epoch 20/70\n",
            "1959/1959 [==============================] - 30s 16ms/step - loss: 1.5774\n",
            "\n",
            "Epoch 00020: loss improved from 1.76776 to 1.57739, saving model to next_words.h5\n",
            "Epoch 21/70\n",
            "1959/1959 [==============================] - 30s 15ms/step - loss: 1.4139\n",
            "\n",
            "Epoch 00021: loss improved from 1.57739 to 1.41392, saving model to next_words.h5\n",
            "Epoch 22/70\n",
            "1959/1959 [==============================] - 30s 15ms/step - loss: 1.2687\n",
            "\n",
            "Epoch 00022: loss improved from 1.41392 to 1.26875, saving model to next_words.h5\n",
            "Epoch 23/70\n",
            "1959/1959 [==============================] - 30s 15ms/step - loss: 1.1495\n",
            "\n",
            "Epoch 00023: loss improved from 1.26875 to 1.14946, saving model to next_words.h5\n",
            "Epoch 24/70\n",
            "1959/1959 [==============================] - 30s 16ms/step - loss: 1.0509\n",
            "\n",
            "Epoch 00024: loss improved from 1.14946 to 1.05094, saving model to next_words.h5\n",
            "Epoch 25/70\n",
            "1959/1959 [==============================] - 31s 16ms/step - loss: 0.9718\n",
            "\n",
            "Epoch 00025: loss improved from 1.05094 to 0.97176, saving model to next_words.h5\n",
            "Epoch 26/70\n",
            "1959/1959 [==============================] - 30s 15ms/step - loss: 0.9110\n",
            "\n",
            "Epoch 00026: loss improved from 0.97176 to 0.91105, saving model to next_words.h5\n",
            "Epoch 27/70\n",
            "1959/1959 [==============================] - 30s 15ms/step - loss: 0.8507\n",
            "\n",
            "Epoch 00027: loss improved from 0.91105 to 0.85071, saving model to next_words.h5\n",
            "Epoch 28/70\n",
            "1959/1959 [==============================] - 30s 15ms/step - loss: 0.8116\n",
            "\n",
            "Epoch 00028: loss improved from 0.85071 to 0.81165, saving model to next_words.h5\n",
            "Epoch 29/70\n",
            "1959/1959 [==============================] - 30s 15ms/step - loss: 0.7736\n",
            "\n",
            "Epoch 00029: loss improved from 0.81165 to 0.77356, saving model to next_words.h5\n",
            "Epoch 30/70\n",
            "1959/1959 [==============================] - 30s 15ms/step - loss: 0.7433\n",
            "\n",
            "Epoch 00030: loss improved from 0.77356 to 0.74327, saving model to next_words.h5\n",
            "Epoch 31/70\n",
            "1959/1959 [==============================] - 30s 15ms/step - loss: 0.7173\n",
            "\n",
            "Epoch 00031: loss improved from 0.74327 to 0.71731, saving model to next_words.h5\n",
            "Epoch 32/70\n",
            "1959/1959 [==============================] - 30s 15ms/step - loss: 0.6953\n",
            "\n",
            "Epoch 00032: loss improved from 0.71731 to 0.69530, saving model to next_words.h5\n",
            "Epoch 33/70\n",
            "1959/1959 [==============================] - 30s 15ms/step - loss: 0.6730\n",
            "\n",
            "Epoch 00033: loss improved from 0.69530 to 0.67298, saving model to next_words.h5\n",
            "Epoch 34/70\n",
            "1959/1959 [==============================] - 30s 15ms/step - loss: 0.6609\n",
            "\n",
            "Epoch 00034: loss improved from 0.67298 to 0.66095, saving model to next_words.h5\n",
            "Epoch 35/70\n",
            "1959/1959 [==============================] - 30s 15ms/step - loss: 0.6425\n",
            "\n",
            "Epoch 00035: loss improved from 0.66095 to 0.64247, saving model to next_words.h5\n",
            "Epoch 36/70\n",
            "1959/1959 [==============================] - 30s 15ms/step - loss: 0.6270\n",
            "\n",
            "Epoch 00036: loss improved from 0.64247 to 0.62699, saving model to next_words.h5\n",
            "Epoch 37/70\n",
            "1959/1959 [==============================] - 30s 15ms/step - loss: 0.6130\n",
            "\n",
            "Epoch 00037: loss improved from 0.62699 to 0.61305, saving model to next_words.h5\n",
            "Epoch 38/70\n",
            "1959/1959 [==============================] - 30s 15ms/step - loss: 0.6027\n",
            "\n",
            "Epoch 00038: loss improved from 0.61305 to 0.60271, saving model to next_words.h5\n",
            "Epoch 39/70\n",
            "1959/1959 [==============================] - 30s 15ms/step - loss: 0.5939\n",
            "\n",
            "Epoch 00039: loss improved from 0.60271 to 0.59388, saving model to next_words.h5\n",
            "Epoch 40/70\n",
            "1959/1959 [==============================] - 30s 16ms/step - loss: 0.5825\n",
            "\n",
            "Epoch 00040: loss improved from 0.59388 to 0.58253, saving model to next_words.h5\n",
            "Epoch 41/70\n",
            "1959/1959 [==============================] - 30s 16ms/step - loss: 0.5730\n",
            "\n",
            "Epoch 00041: loss improved from 0.58253 to 0.57299, saving model to next_words.h5\n",
            "Epoch 42/70\n",
            "1959/1959 [==============================] - 30s 16ms/step - loss: 0.5646\n",
            "\n",
            "Epoch 00042: loss improved from 0.57299 to 0.56461, saving model to next_words.h5\n",
            "Epoch 43/70\n",
            "1959/1959 [==============================] - 30s 15ms/step - loss: 0.5539\n",
            "\n",
            "Epoch 00043: loss improved from 0.56461 to 0.55391, saving model to next_words.h5\n",
            "Epoch 44/70\n",
            "1959/1959 [==============================] - 31s 16ms/step - loss: 0.5471\n",
            "\n",
            "Epoch 00044: loss improved from 0.55391 to 0.54709, saving model to next_words.h5\n",
            "Epoch 45/70\n",
            "1959/1959 [==============================] - 31s 16ms/step - loss: 0.5405\n",
            "\n",
            "Epoch 00045: loss improved from 0.54709 to 0.54055, saving model to next_words.h5\n",
            "Epoch 46/70\n",
            "1959/1959 [==============================] - 31s 16ms/step - loss: 0.5329\n",
            "\n",
            "Epoch 00046: loss improved from 0.54055 to 0.53294, saving model to next_words.h5\n",
            "Epoch 47/70\n",
            "1959/1959 [==============================] - 31s 16ms/step - loss: 0.5267\n",
            "\n",
            "Epoch 00047: loss improved from 0.53294 to 0.52673, saving model to next_words.h5\n",
            "Epoch 48/70\n",
            "1959/1959 [==============================] - 31s 16ms/step - loss: 0.5214\n",
            "\n",
            "Epoch 00048: loss improved from 0.52673 to 0.52140, saving model to next_words.h5\n",
            "Epoch 49/70\n",
            "1959/1959 [==============================] - 31s 16ms/step - loss: 0.5127\n",
            "\n",
            "Epoch 00049: loss improved from 0.52140 to 0.51274, saving model to next_words.h5\n",
            "Epoch 50/70\n",
            "1959/1959 [==============================] - 31s 16ms/step - loss: 0.5087\n",
            "\n",
            "Epoch 00050: loss improved from 0.51274 to 0.50874, saving model to next_words.h5\n",
            "Epoch 51/70\n",
            "1959/1959 [==============================] - 31s 16ms/step - loss: 0.5035\n",
            "\n",
            "Epoch 00051: loss improved from 0.50874 to 0.50347, saving model to next_words.h5\n",
            "Epoch 52/70\n",
            "1959/1959 [==============================] - 31s 16ms/step - loss: 0.5009\n",
            "\n",
            "Epoch 00052: loss improved from 0.50347 to 0.50092, saving model to next_words.h5\n",
            "Epoch 53/70\n",
            "1959/1959 [==============================] - 31s 16ms/step - loss: 0.4934\n",
            "\n",
            "Epoch 00053: loss improved from 0.50092 to 0.49337, saving model to next_words.h5\n",
            "Epoch 54/70\n",
            "1959/1959 [==============================] - 31s 16ms/step - loss: 0.4889\n",
            "\n",
            "Epoch 00054: loss improved from 0.49337 to 0.48894, saving model to next_words.h5\n",
            "Epoch 55/70\n",
            "1959/1959 [==============================] - 31s 16ms/step - loss: 0.4867\n",
            "\n",
            "Epoch 00055: loss improved from 0.48894 to 0.48671, saving model to next_words.h5\n",
            "Epoch 56/70\n",
            "1959/1959 [==============================] - 31s 16ms/step - loss: 0.4806\n",
            "\n",
            "Epoch 00056: loss improved from 0.48671 to 0.48055, saving model to next_words.h5\n",
            "Epoch 57/70\n",
            "1959/1959 [==============================] - 31s 16ms/step - loss: 0.4782\n",
            "\n",
            "Epoch 00057: loss improved from 0.48055 to 0.47819, saving model to next_words.h5\n",
            "Epoch 58/70\n",
            "1959/1959 [==============================] - 31s 16ms/step - loss: 0.4740\n",
            "\n",
            "Epoch 00058: loss improved from 0.47819 to 0.47396, saving model to next_words.h5\n",
            "Epoch 59/70\n",
            "1959/1959 [==============================] - 31s 16ms/step - loss: 0.4685\n",
            "\n",
            "Epoch 00059: loss improved from 0.47396 to 0.46851, saving model to next_words.h5\n",
            "Epoch 60/70\n",
            "1959/1959 [==============================] - 31s 16ms/step - loss: 0.4688\n",
            "\n",
            "Epoch 00060: loss did not improve from 0.46851\n",
            "Epoch 61/70\n",
            "1959/1959 [==============================] - 31s 16ms/step - loss: 0.4647\n",
            "\n",
            "Epoch 00061: loss improved from 0.46851 to 0.46466, saving model to next_words.h5\n",
            "Epoch 62/70\n",
            "1959/1959 [==============================] - 31s 16ms/step - loss: 0.4589\n",
            "\n",
            "Epoch 00062: loss improved from 0.46466 to 0.45886, saving model to next_words.h5\n",
            "Epoch 63/70\n",
            "1959/1959 [==============================] - 31s 16ms/step - loss: 0.4584\n",
            "\n",
            "Epoch 00063: loss improved from 0.45886 to 0.45844, saving model to next_words.h5\n",
            "Epoch 64/70\n",
            "1959/1959 [==============================] - 31s 16ms/step - loss: 0.4550\n",
            "\n",
            "Epoch 00064: loss improved from 0.45844 to 0.45503, saving model to next_words.h5\n",
            "Epoch 65/70\n",
            "1959/1959 [==============================] - 31s 16ms/step - loss: 0.4523\n",
            "\n",
            "Epoch 00065: loss improved from 0.45503 to 0.45233, saving model to next_words.h5\n",
            "Epoch 66/70\n",
            "1959/1959 [==============================] - 31s 16ms/step - loss: 0.4468\n",
            "\n",
            "Epoch 00066: loss improved from 0.45233 to 0.44681, saving model to next_words.h5\n",
            "Epoch 67/70\n",
            "1959/1959 [==============================] - 31s 16ms/step - loss: 0.4459\n",
            "\n",
            "Epoch 00067: loss improved from 0.44681 to 0.44587, saving model to next_words.h5\n",
            "Epoch 68/70\n",
            "1959/1959 [==============================] - 31s 16ms/step - loss: 0.4467\n",
            "\n",
            "Epoch 00068: loss did not improve from 0.44587\n",
            "Epoch 69/70\n",
            "1959/1959 [==============================] - 31s 16ms/step - loss: 0.4421\n",
            "\n",
            "Epoch 00069: loss improved from 0.44587 to 0.44205, saving model to next_words.h5\n",
            "Epoch 70/70\n",
            "1959/1959 [==============================] - 31s 16ms/step - loss: 0.4365\n",
            "\n",
            "Epoch 00070: loss improved from 0.44205 to 0.43651, saving model to next_words.h5\n"
          ],
          "name": "stdout"
        },
        {
          "output_type": "execute_result",
          "data": {
            "text/plain": [
              "<tensorflow.python.keras.callbacks.History at 0x7f68e75568d0>"
            ]
          },
          "metadata": {
            "tags": []
          },
          "execution_count": 15
        }
      ]
    },
    {
      "cell_type": "markdown",
      "metadata": {
        "id": "435g83Q3b2XH"
      },
      "source": [
        "## Prediction"
      ]
    },
    {
      "cell_type": "code",
      "metadata": {
        "id": "4VXsW3bJb1X7"
      },
      "source": [
        "from tensorflow.keras.models import load_model\n",
        "import numpy as np\n",
        "import pickle\n",
        "\n",
        "# Load the model and tokenizer\n",
        "model = load_model('next_words.h5')\n",
        "tokenizer = pickle.load(open('token.pkl', 'rb'))\n",
        "\n",
        "def Predict_Next_Words(model, tokenizer, text):\n",
        "\n",
        "  sequence = tokenizer.texts_to_sequences([text])\n",
        "  sequence = np.array(sequence)\n",
        "  preds = np.argmax(model.predict(sequence))\n",
        "  predicted_word = \"\"\n",
        "  \n",
        "  for key, value in tokenizer.word_index.items():\n",
        "      if value == preds:\n",
        "          predicted_word = key\n",
        "          break\n",
        "  \n",
        "  print(predicted_word)\n",
        "  return predicted_word\n"
      ],
      "execution_count": null,
      "outputs": []
    },
    {
      "cell_type": "code",
      "metadata": {
        "colab": {
          "base_uri": "https://localhost:8080/"
        },
        "id": "856JTcSdYKY6",
        "outputId": "0148f68f-6902-42cb-8895-006c05688fdf"
      },
      "source": [
        "while(True):\n",
        "  text = input(\"Enter your line: \")\n",
        "  \n",
        "  if text == \"0\":\n",
        "      print(\"Execution completed.....\")\n",
        "      break\n",
        "  \n",
        "  else:\n",
        "      try:\n",
        "          text = text.split(\" \")\n",
        "          text = text[-3:]\n",
        "          print(text)\n",
        "        \n",
        "          Predict_Next_Words(model, tokenizer, text)\n",
        "          \n",
        "      except Exception as e:\n",
        "        print(\"Error occurred: \",e)\n",
        "        continue"
      ],
      "execution_count": null,
      "outputs": [
        {
          "output_type": "stream",
          "text": [
            "Enter your line: The Project Gutenberg\n",
            "['The', 'Project', 'Gutenberg']\n",
            "literary\n",
            "Enter your line: The Project Gutenberg eBook of\n",
            "['Gutenberg', 'eBook', 'of']\n",
            "pride\n",
            "Enter your line: how can you abuse your own\n",
            "['abuse', 'your', 'own']\n",
            "children\n",
            "Enter your line: He was quite\n",
            "['He', 'was', 'quite']\n",
            "young\n",
            "Enter your line: was quite\n",
            "['was', 'quite']\n",
            "WARNING:tensorflow:Model was constructed with shape (None, 3) for input KerasTensor(type_spec=TensorSpec(shape=(None, 3), dtype=tf.float32, name='embedding_input'), name='embedding_input', description=\"created by layer 'embedding_input'\"), but it was called on an input with incompatible shape (None, 2).\n",
            "a\n",
            "Enter your line: He could not help seeing that you were about five times as\n",
            "['five', 'times', 'as']\n",
            "pretty\n",
            "Enter your line: and her sister\n",
            "['and', 'her', 'sister']\n",
            "scarcely\n",
            "Enter your line: however, it may all come to\n",
            "['all', 'come', 'to']\n",
            "nothing\n",
            "Enter your line: 0\n",
            "Execution completed.....\n"
          ],
          "name": "stdout"
        }
      ]
    },
    {
      "cell_type": "code",
      "metadata": {
        "id": "2qXzz5mlZQsB"
      },
      "source": [
        ""
      ],
      "execution_count": null,
      "outputs": []
    }
  ]
}